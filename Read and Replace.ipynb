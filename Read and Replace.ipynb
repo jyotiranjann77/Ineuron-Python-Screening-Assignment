{
 "cells": [
  {
   "cell_type": "markdown",
   "id": "2e1fb110",
   "metadata": {},
   "source": [
    "## 1.Create a function in python to read the text file and replace specific content of the file?\n",
    "\n",
    "File name-example.txt\n",
    "\n",
    "Origin file content This is a placement assignment\n",
    "\n",
    "Replace string Placement should be replaced by screening.\n",
    "\n",
    "Replaced file content This is a screening assignment"
   ]
  },
  {
   "cell_type": "code",
   "execution_count": 9,
   "id": "aa1a4257",
   "metadata": {},
   "outputs": [
    {
     "name": "stdout",
     "output_type": "stream",
     "text": [
      "Text replaced\n"
     ]
    }
   ],
   "source": [
    "search_text = \"placement\"\n",
    "replace_text = \"screening\"\n",
    "\n",
    "with open('D:/Python For Beginners/example.txt', 'r') as file:\n",
    "    data = file.read()\n",
    "    data = data.replace(search_text, replace_text)\n",
    "with open(r'example.txt', 'w') as file:    \n",
    "    file.write(data)\n",
    "print(\"Text replaced\")    "
   ]
  },
  {
   "cell_type": "markdown",
   "id": "f0854ef9",
   "metadata": {},
   "source": [
    "## 2.Demonstrate use of abstract class, multiple inheritance and decorator in python using examples."
   ]
  },
  {
   "cell_type": "markdown",
   "id": "3057aeea",
   "metadata": {},
   "source": [
    "### Abstract Classes:-"
   ]
  },
  {
   "cell_type": "markdown",
   "id": "750e4c00",
   "metadata": {},
   "source": [
    "Abstract class can be considered as a blueprint for other classes. It allows you to create a set of methods that must be created within any child classes built from the abstract class. A class which contains one or more abstract methods is called an abstract class. An abstract method is a method that has a declaration but does not have an implementation. While we are designing large functional units we use an abstract class. When we want to provide a common interface for different implementations of a component, we use an abstract class. "
   ]
  },
  {
   "cell_type": "code",
   "execution_count": 13,
   "id": "73474aa3",
   "metadata": {},
   "outputs": [
    {
     "name": "stdout",
     "output_type": "stream",
     "text": [
      "Welcome to the bank\n",
      "50 rupee interest\n"
     ]
    }
   ],
   "source": [
    "#Example\n",
    "from abc import ABC, abstractmethod\n",
    "#Abstract Class\n",
    "class Bank(ABC):\n",
    "   def bank_info(self):\n",
    "       print(\"Welcome to the bank\")\n",
    "   @abstractmethod\n",
    "   def interest(self):\n",
    "       \"Abstarct Method\"\n",
    "       pass\n",
    "#Sub class/ child class of abstract class\n",
    "class SBI(Bank):\n",
    "   def interest(self):\n",
    "       \"Implementation of abstract method\"\n",
    "       print(\"50 rupee interest\")\n",
    "s= SBI()\n",
    "s.bank_info ()\n",
    "s.interest()"
   ]
  },
  {
   "cell_type": "markdown",
   "id": "9d56a477",
   "metadata": {},
   "source": [
    "### multiple inheritance:-"
   ]
  },
  {
   "cell_type": "markdown",
   "id": "a5153ae4",
   "metadata": {},
   "source": [
    "Multiple inheritance is a feature of some object-oriented computer programming languages in which an object or class can inherit characteristics and features from more than one parent object or the parent class."
   ]
  },
  {
   "cell_type": "code",
   "execution_count": 15,
   "id": "ce26929e",
   "metadata": {},
   "outputs": [
    {
     "name": "stdout",
     "output_type": "stream",
     "text": [
      "Father is Enjoying Driving\n",
      "Mother is Enjoying Cooking\n",
      "Child is Playing\n"
     ]
    }
   ],
   "source": [
    "#example\n",
    "# Multiple Inheritance using two classes:\n",
    "\n",
    "class Father():\n",
    "    def Driving(self):\n",
    "        print(\"Father is Enjoying Driving\")\n",
    "class Mother():\n",
    "    def Cooking(self):\n",
    "        print(\"Mother is Enjoying Cooking\")\n",
    "class Child(Father, Mother):\n",
    "    def Playing(self):\n",
    "        print(\"Child is Playing\")\n",
    "c = Child()\n",
    "c.Driving()\n",
    "c.Cooking()\n",
    "c.Playing()"
   ]
  },
  {
   "cell_type": "markdown",
   "id": "d9ff0fb9",
   "metadata": {},
   "source": [
    "### Decorator:-"
   ]
  },
  {
   "cell_type": "markdown",
   "id": "9c770719",
   "metadata": {},
   "source": [
    "A decorator takes in a function, adds some functionality and returns it. In this tutorial, you will learn how you can create a decorator and why you should use it."
   ]
  },
  {
   "cell_type": "code",
   "execution_count": 16,
   "id": "a0b4d36b",
   "metadata": {},
   "outputs": [
    {
     "name": "stdout",
     "output_type": "stream",
     "text": [
      "Hello\n",
      "Hello\n"
     ]
    }
   ],
   "source": [
    "#Example\n",
    "def first(msg):\n",
    "    print(msg)\n",
    "\n",
    "\n",
    "first(\"Hello\")\n",
    "\n",
    "second = first\n",
    "second(\"Hello\")"
   ]
  },
  {
   "cell_type": "code",
   "execution_count": null,
   "id": "57a51c08",
   "metadata": {},
   "outputs": [],
   "source": []
  }
 ],
 "metadata": {
  "kernelspec": {
   "display_name": "Python 3 (ipykernel)",
   "language": "python",
   "name": "python3"
  },
  "language_info": {
   "codemirror_mode": {
    "name": "ipython",
    "version": 3
   },
   "file_extension": ".py",
   "mimetype": "text/x-python",
   "name": "python",
   "nbconvert_exporter": "python",
   "pygments_lexer": "ipython3",
   "version": "3.8.13"
  }
 },
 "nbformat": 4,
 "nbformat_minor": 5
}
